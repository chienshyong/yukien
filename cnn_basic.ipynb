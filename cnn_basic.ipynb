{
 "cells": [
  {
   "cell_type": "code",
   "execution_count": null,
   "metadata": {},
   "outputs": [],
   "source": [
    "import pandas as pd\n",
    "import tensorflow as tf\n",
    "from tensorflow.keras.preprocessing import image\n",
    "from sklearn.model_selection import train_test_split\n",
    "from sklearn.metrics import classification_report\n",
    "from tensorflow.keras.utils import to_categorical\n",
    "import numpy as np\n",
    "import os\n",
    "\n",
    "data = pd.read_csv(\"dataset.csv\")\n",
    "\n",
    "image_paths = data[\"image_path\"]\n",
    "labels = data[\"artist_label\"]"
   ]
  },
  {
   "cell_type": "code",
   "execution_count": null,
   "metadata": {},
   "outputs": [],
   "source": [
    "def load_and_preprocess_images(image_paths, target_size=(128, 128)):\n",
    "    images = []\n",
    "    for img_path in image_paths:\n",
    "        img = image.load_img(img_path, target_size=target_size)\n",
    "        img_array = image.img_to_array(img)\n",
    "        images.append(img_array)\n",
    "    \n",
    "    return np.array(images)\n",
    "\n",
    "# Load and preprocess images\n",
    "X = load_and_preprocess_images(image_paths)\n",
    "X = X / 255.0  # Normalize the images to [0, 1] range\n",
    "\n",
    "# Convert labels to numpy array and one-hot encode them\n",
    "y = np.array(labels)\n",
    "y = to_categorical(y, num_classes=3)  # 3 classes (0, 1, 2)\n",
    "\n",
    "# Split data into training and testing sets\n",
    "X_train, X_test, y_train, y_test = train_test_split(X, y, test_size=0.2, random_state=42)"
   ]
  },
  {
   "cell_type": "code",
   "execution_count": 4,
   "metadata": {},
   "outputs": [
    {
     "name": "stderr",
     "output_type": "stream",
     "text": [
      "c:\\Users\\Chien Shyong\\Documents\\School Work\\Term 8\\Data Science\\yukien\\myvenv\\Lib\\site-packages\\PIL\\Image.py:1045: UserWarning: Palette images with Transparency expressed in bytes should be converted to RGBA images\n",
      "  warnings.warn(\n",
      "c:\\Users\\Chien Shyong\\Documents\\School Work\\Term 8\\Data Science\\yukien\\myvenv\\Lib\\site-packages\\keras\\src\\layers\\convolutional\\base_conv.py:107: UserWarning: Do not pass an `input_shape`/`input_dim` argument to a layer. When using Sequential models, prefer using an `Input(shape)` object as the first layer in the model instead.\n",
      "  super().__init__(activity_regularizer=activity_regularizer, **kwargs)\n"
     ]
    },
    {
     "name": "stdout",
     "output_type": "stream",
     "text": [
      "Epoch 1/10\n",
      "\u001b[1m61/61\u001b[0m \u001b[32m━━━━━━━━━━━━━━━━━━━━\u001b[0m\u001b[37m\u001b[0m \u001b[1m11s\u001b[0m 151ms/step - accuracy: 0.5966 - loss: 0.8448 - val_accuracy: 0.7988 - val_loss: 0.5292\n",
      "Epoch 2/10\n",
      "\u001b[1m61/61\u001b[0m \u001b[32m━━━━━━━━━━━━━━━━━━━━\u001b[0m\u001b[37m\u001b[0m \u001b[1m9s\u001b[0m 148ms/step - accuracy: 0.7683 - loss: 0.5821 - val_accuracy: 0.8111 - val_loss: 0.5255\n",
      "Epoch 3/10\n",
      "\u001b[1m61/61\u001b[0m \u001b[32m━━━━━━━━━━━━━━━━━━━━\u001b[0m\u001b[37m\u001b[0m \u001b[1m9s\u001b[0m 149ms/step - accuracy: 0.8167 - loss: 0.4923 - val_accuracy: 0.8686 - val_loss: 0.4022\n",
      "Epoch 4/10\n",
      "\u001b[1m61/61\u001b[0m \u001b[32m━━━━━━━━━━━━━━━━━━━━\u001b[0m\u001b[37m\u001b[0m \u001b[1m9s\u001b[0m 142ms/step - accuracy: 0.8864 - loss: 0.3233 - val_accuracy: 0.8891 - val_loss: 0.3328\n",
      "Epoch 5/10\n",
      "\u001b[1m61/61\u001b[0m \u001b[32m━━━━━━━━━━━━━━━━━━━━\u001b[0m\u001b[37m\u001b[0m \u001b[1m9s\u001b[0m 145ms/step - accuracy: 0.9194 - loss: 0.2421 - val_accuracy: 0.8665 - val_loss: 0.3451\n",
      "Epoch 6/10\n",
      "\u001b[1m61/61\u001b[0m \u001b[32m━━━━━━━━━━━━━━━━━━━━\u001b[0m\u001b[37m\u001b[0m \u001b[1m8s\u001b[0m 137ms/step - accuracy: 0.9267 - loss: 0.2160 - val_accuracy: 0.8871 - val_loss: 0.3214\n",
      "Epoch 7/10\n",
      "\u001b[1m61/61\u001b[0m \u001b[32m━━━━━━━━━━━━━━━━━━━━\u001b[0m\u001b[37m\u001b[0m \u001b[1m9s\u001b[0m 140ms/step - accuracy: 0.9388 - loss: 0.1753 - val_accuracy: 0.9138 - val_loss: 0.2730\n",
      "Epoch 8/10\n",
      "\u001b[1m61/61\u001b[0m \u001b[32m━━━━━━━━━━━━━━━━━━━━\u001b[0m\u001b[37m\u001b[0m \u001b[1m9s\u001b[0m 139ms/step - accuracy: 0.9495 - loss: 0.1431 - val_accuracy: 0.9158 - val_loss: 0.3381\n",
      "Epoch 9/10\n",
      "\u001b[1m61/61\u001b[0m \u001b[32m━━━━━━━━━━━━━━━━━━━━\u001b[0m\u001b[37m\u001b[0m \u001b[1m9s\u001b[0m 139ms/step - accuracy: 0.9521 - loss: 0.1391 - val_accuracy: 0.9097 - val_loss: 0.3015\n",
      "Epoch 10/10\n",
      "\u001b[1m61/61\u001b[0m \u001b[32m━━━━━━━━━━━━━━━━━━━━\u001b[0m\u001b[37m\u001b[0m \u001b[1m9s\u001b[0m 138ms/step - accuracy: 0.9508 - loss: 0.1581 - val_accuracy: 0.9014 - val_loss: 0.3117\n",
      "\u001b[1m16/16\u001b[0m \u001b[32m━━━━━━━━━━━━━━━━━━━━\u001b[0m\u001b[37m\u001b[0m \u001b[1m1s\u001b[0m 34ms/step - accuracy: 0.9068 - loss: 0.3270\n",
      "Test accuracy: 0.9014373421669006\n",
      "\u001b[1m16/16\u001b[0m \u001b[32m━━━━━━━━━━━━━━━━━━━━\u001b[0m\u001b[37m\u001b[0m \u001b[1m1s\u001b[0m 38ms/step\n",
      "              precision    recall  f1-score   support\n",
      "\n",
      "     Class 0       0.90      0.87      0.89       188\n",
      "     Class 1       0.88      0.74      0.81        39\n",
      "     Class 2       0.90      0.95      0.92       260\n",
      "\n",
      "    accuracy                           0.90       487\n",
      "   macro avg       0.89      0.85      0.87       487\n",
      "weighted avg       0.90      0.90      0.90       487\n",
      "\n"
     ]
    }
   ],
   "source": [
    "# Define a Convolutional Neural Network (CNN) model for multi-class classification\n",
    "model = tf.keras.Sequential([\n",
    "    # First convolutional block\n",
    "    tf.keras.layers.Conv2D(32, (3, 3), activation='relu', input_shape=(128, 128, 3)),\n",
    "    tf.keras.layers.MaxPooling2D(2, 2),\n",
    "    \n",
    "    # Second convolutional block\n",
    "    tf.keras.layers.Conv2D(64, (3, 3), activation='relu'),\n",
    "    tf.keras.layers.MaxPooling2D(2, 2),\n",
    "    \n",
    "    # Third convolutional block\n",
    "    tf.keras.layers.Conv2D(128, (3, 3), activation='relu'),\n",
    "    tf.keras.layers.MaxPooling2D(2, 2),\n",
    "    \n",
    "    # Flatten the output\n",
    "    tf.keras.layers.Flatten(),\n",
    "    \n",
    "    # Fully connected layer\n",
    "    tf.keras.layers.Dense(128, activation='relu'),\n",
    "    tf.keras.layers.Dropout(0.5),\n",
    "    \n",
    "    # Output layer with 3 units for multi-class classification\n",
    "    tf.keras.layers.Dense(3, activation='softmax')  # 3 classes, softmax activation\n",
    "])\n",
    "\n",
    "# Compile the model\n",
    "model.compile(optimizer='adam',\n",
    "              loss='categorical_crossentropy',  # Categorical cross-entropy for multi-class classification\n",
    "              metrics=['accuracy'])\n",
    "\n",
    "# Train the model\n",
    "history = model.fit(X_train, y_train, epochs=10, batch_size=32, validation_data=(X_test, y_test))\n",
    "\n",
    "# Evaluate the model\n",
    "test_loss, test_acc = model.evaluate(X_test, y_test)\n",
    "print(f\"Test accuracy: {test_acc}\")\n",
    "\n",
    "# Predict on the test set\n",
    "y_pred = np.argmax(model.predict(X_test), axis=1)  # Convert softmax probabilities to class labels\n",
    "\n",
    "# Get the actual class labels (as integers)\n",
    "y_true = np.argmax(y_test, axis=1)\n",
    "\n",
    "# Classification report for performance evaluation\n",
    "report = classification_report(y_true, y_pred, target_names=['Class 0', 'Class 1', 'Class 2'])\n",
    "print(report)"
   ]
  },
  {
   "cell_type": "code",
   "execution_count": null,
   "metadata": {},
   "outputs": [],
   "source": []
  }
 ],
 "metadata": {
  "kernelspec": {
   "display_name": "myvenv",
   "language": "python",
   "name": "python3"
  },
  "language_info": {
   "codemirror_mode": {
    "name": "ipython",
    "version": 3
   },
   "file_extension": ".py",
   "mimetype": "text/x-python",
   "name": "python",
   "nbconvert_exporter": "python",
   "pygments_lexer": "ipython3",
   "version": "3.11.4"
  }
 },
 "nbformat": 4,
 "nbformat_minor": 2
}

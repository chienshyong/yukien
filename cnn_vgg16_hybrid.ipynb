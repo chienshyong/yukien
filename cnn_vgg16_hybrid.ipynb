{
 "cells": [
  {
   "cell_type": "code",
   "execution_count": 9,
   "metadata": {},
   "outputs": [
    {
     "name": "stderr",
     "output_type": "stream",
     "text": [
      "c:\\Users\\zq\\Documents\\GitHub\\yukien\\venv\\Lib\\site-packages\\PIL\\Image.py:1045: UserWarning: Palette images with Transparency expressed in bytes should be converted to RGBA images\n",
      "  warnings.warn(\n"
     ]
    },
    {
     "name": "stdout",
     "output_type": "stream",
     "text": [
      "Epoch 1/10\n",
      "\u001b[1m114/114\u001b[0m \u001b[32m━━━━━━━━━━━━━━━━━━━━\u001b[0m\u001b[37m\u001b[0m \u001b[1m94s\u001b[0m 818ms/step - accuracy: 0.4506 - loss: 1.6465 - val_accuracy: 0.6979 - val_loss: 0.8070\n",
      "Epoch 2/10\n",
      "\u001b[1m114/114\u001b[0m \u001b[32m━━━━━━━━━━━━━━━━━━━━\u001b[0m\u001b[37m\u001b[0m \u001b[1m97s\u001b[0m 856ms/step - accuracy: 0.7019 - loss: 0.8499 - val_accuracy: 0.8082 - val_loss: 0.6056\n",
      "Epoch 3/10\n",
      "\u001b[1m114/114\u001b[0m \u001b[32m━━━━━━━━━━━━━━━━━━━━\u001b[0m\u001b[37m\u001b[0m \u001b[1m98s\u001b[0m 859ms/step - accuracy: 0.7704 - loss: 0.6393 - val_accuracy: 0.8335 - val_loss: 0.5221\n",
      "Epoch 4/10\n",
      "\u001b[1m114/114\u001b[0m \u001b[32m━━━━━━━━━━━━━━━━━━━━\u001b[0m\u001b[37m\u001b[0m \u001b[1m98s\u001b[0m 859ms/step - accuracy: 0.8266 - loss: 0.5114 - val_accuracy: 0.8445 - val_loss: 0.4619\n",
      "Epoch 5/10\n",
      "\u001b[1m114/114\u001b[0m \u001b[32m━━━━━━━━━━━━━━━━━━━━\u001b[0m\u001b[37m\u001b[0m \u001b[1m97s\u001b[0m 854ms/step - accuracy: 0.8481 - loss: 0.4439 - val_accuracy: 0.8467 - val_loss: 0.4663\n",
      "Epoch 6/10\n",
      "\u001b[1m114/114\u001b[0m \u001b[32m━━━━━━━━━━━━━━━━━━━━\u001b[0m\u001b[37m\u001b[0m \u001b[1m97s\u001b[0m 851ms/step - accuracy: 0.8743 - loss: 0.3547 - val_accuracy: 0.8710 - val_loss: 0.3928\n",
      "Epoch 7/10\n",
      "\u001b[1m114/114\u001b[0m \u001b[32m━━━━━━━━━━━━━━━━━━━━\u001b[0m\u001b[37m\u001b[0m \u001b[1m98s\u001b[0m 857ms/step - accuracy: 0.9038 - loss: 0.2945 - val_accuracy: 0.8776 - val_loss: 0.3658\n",
      "Epoch 8/10\n",
      "\u001b[1m114/114\u001b[0m \u001b[32m━━━━━━━━━━━━━━━━━━━━\u001b[0m\u001b[37m\u001b[0m \u001b[1m99s\u001b[0m 866ms/step - accuracy: 0.9116 - loss: 0.2785 - val_accuracy: 0.8776 - val_loss: 0.3817\n",
      "Epoch 9/10\n",
      "\u001b[1m114/114\u001b[0m \u001b[32m━━━━━━━━━━━━━━━━━━━━\u001b[0m\u001b[37m\u001b[0m \u001b[1m97s\u001b[0m 856ms/step - accuracy: 0.9109 - loss: 0.2604 - val_accuracy: 0.8787 - val_loss: 0.3663\n",
      "Epoch 10/10\n",
      "\u001b[1m114/114\u001b[0m \u001b[32m━━━━━━━━━━━━━━━━━━━━\u001b[0m\u001b[37m\u001b[0m \u001b[1m97s\u001b[0m 853ms/step - accuracy: 0.9222 - loss: 0.2312 - val_accuracy: 0.8908 - val_loss: 0.3726\n",
      "Restoring model weights from the end of the best epoch: 10.\n",
      "\u001b[1m29/29\u001b[0m \u001b[32m━━━━━━━━━━━━━━━━━━━━\u001b[0m\u001b[37m\u001b[0m \u001b[1m19s\u001b[0m 669ms/step - accuracy: 0.8994 - loss: 0.3173\n",
      "Test accuracy: 0.8908489346504211\n",
      "\u001b[1m29/29\u001b[0m \u001b[32m━━━━━━━━━━━━━━━━━━━━\u001b[0m\u001b[37m\u001b[0m \u001b[1m20s\u001b[0m 676ms/step\n"
     ]
    }
   ],
   "source": [
    "import tensorflow as tf\n",
    "from tensorflow.keras.applications import VGG16\n",
    "from tensorflow.keras.preprocessing import image\n",
    "from tensorflow.keras.models import Model\n",
    "from tensorflow.keras.layers import Dense, Flatten, Dropout, Input, Concatenate\n",
    "from sklearn.metrics import classification_report\n",
    "from tensorflow.keras.utils import to_categorical\n",
    "from sklearn.model_selection import train_test_split\n",
    "from sklearn.preprocessing import StandardScaler\n",
    "import numpy as np\n",
    "import pandas as pd\n",
    "from tensorflow.keras.callbacks import EarlyStopping\n",
    "import os\n",
    "\n",
    "# Load the dataset\n",
    "data = pd.read_csv(\"dataset.csv\")\n",
    "\n",
    "# Extract the image paths and additional features\n",
    "image_paths = data[\"image_path\"]\n",
    "labels = data[\"artist_label\"]\n",
    "additional_features = data.drop(columns=[\"image_path\", \"artist_label\"])\n",
    "\n",
    "num_artists = len(os.listdir('dataset/'))\n",
    "\n",
    "# Function to load and preprocess images\n",
    "def load_and_preprocess_images(image_paths, target_size=(128, 128)):\n",
    "    images = []\n",
    "    for img_path in image_paths:\n",
    "        img = image.load_img(img_path, target_size=target_size)\n",
    "        img_array = image.img_to_array(img)\n",
    "        images.append(img_array)\n",
    "    return np.array(images)\n",
    "\n",
    "# Load and preprocess images\n",
    "X_images = load_and_preprocess_images(image_paths)\n",
    "X_images = X_images / 255.0  # Normalize the images to [0, 1] range\n",
    "\n",
    "# Convert labels to numpy array and one-hot encode them\n",
    "y = np.array(labels)\n",
    "y = to_categorical(y, num_classes=num_artists)\n",
    "\n",
    "# Convert additional features to numpy array\n",
    "X_additional = additional_features.to_numpy()\n",
    "\n",
    "# Normalize the additional features using StandardScaler\n",
    "scaler = StandardScaler()\n",
    "X_additional = scaler.fit_transform(X_additional)\n",
    "\n",
    "# Split data into training and testing sets\n",
    "X_train_images, X_test_images, X_train_additional, X_test_additional, y_train, y_test = train_test_split(\n",
    "    X_images, X_additional, y, test_size=0.2, random_state=42\n",
    ")\n",
    "\n",
    "# Load the pre-trained VGG16 model without the top layers (classification part)\n",
    "base_model = VGG16(weights='imagenet', include_top=False, input_shape=(128, 128, 3))\n",
    "\n",
    "# Freeze the base model layers so that their weights are not updated during training\n",
    "base_model.trainable = False\n",
    "\n",
    "# Image input branch\n",
    "image_input = Input(shape=(128, 128, 3), name='image_input')\n",
    "x = base_model(image_input)\n",
    "x = Flatten()(x)\n",
    "\n",
    "# Additional features input branch\n",
    "additional_input = Input(shape=(X_additional.shape[1],), name='additional_input')\n",
    "y = Dense(64, activation='relu')(additional_input)\n",
    "\n",
    "# Concatenate image features with the processed additional features\n",
    "z = Concatenate()([x, y])\n",
    "\n",
    "# Fully connected layers for classification\n",
    "z = Dense(128, activation='relu')(z)\n",
    "z = Dropout(0.5)(z)\n",
    "output = Dense(num_artists, activation='softmax')(z)  # num_artists classes, softmax activation\n",
    "\n",
    "# Define the complete model\n",
    "model = Model(inputs=[image_input, additional_input], outputs=output)\n",
    "\n",
    "# Compile the model\n",
    "model.compile(optimizer='adam',\n",
    "              loss='categorical_crossentropy',  # Categorical cross-entropy for multi-class classification\n",
    "              metrics=['accuracy'])\n",
    "\n",
    "# Set up EarlyStopping\n",
    "early_stopping = EarlyStopping(monitor='val_accuracy',  # Monitor validation accuracy\n",
    "                               patience=3,  # Stop after 3 epochs without improvement\n",
    "                               restore_best_weights=True,  # Restore the best weights when stopping\n",
    "                               verbose=1)\n",
    "\n",
    "# Train the model with EarlyStopping\n",
    "history = model.fit(\n",
    "    [X_train_images, X_train_additional],  # Pass both image and additional features for training\n",
    "    y_train,\n",
    "    epochs=10,\n",
    "    batch_size=32,\n",
    "    validation_data=([X_test_images, X_test_additional], y_test),  # Validation data\n",
    "    callbacks=[early_stopping]  # Include EarlyStopping in the callbacks\n",
    ")\n",
    "# Evaluate the model\n",
    "test_loss, test_acc = model.evaluate([X_test_images, X_test_additional], y_test)\n",
    "print(f\"Test accuracy: {test_acc}\")\n",
    "\n",
    "# Predict on the test set\n",
    "y_pred = np.argmax(model.predict([X_test_images, X_test_additional]), axis=1)  # Convert softmax probabilities to class labels\n",
    "\n",
    "# Get the actual class labels (as integers)\n",
    "y_true = np.argmax(y_test, axis=1)\n"
   ]
  },
  {
   "cell_type": "code",
   "execution_count": 10,
   "metadata": {},
   "outputs": [
    {
     "name": "stdout",
     "output_type": "stream",
     "text": [
      "              precision    recall  f1-score   support\n",
      "\n",
      "     Class 0       0.85      0.90      0.87       195\n",
      "     Class 1       0.92      0.90      0.91        40\n",
      "     Class 2       0.95      0.89      0.92       259\n",
      "     Class 3       0.93      0.88      0.90        43\n",
      "     Class 4       0.83      0.57      0.68        35\n",
      "     Class 5       0.83      0.83      0.83        72\n",
      "     Class 6       0.85      0.85      0.85        62\n",
      "     Class 7       0.89      0.97      0.93       201\n",
      "\n",
      "    accuracy                           0.89       907\n",
      "   macro avg       0.88      0.85      0.86       907\n",
      "weighted avg       0.89      0.89      0.89       907\n",
      "\n"
     ]
    }
   ],
   "source": [
    "\n",
    "# Classification report for performance evaluation\n",
    "report = classification_report(y_true, y_pred, \n",
    "                              target_names=[f'Class {i}' for i in np.unique(y_true)])\n",
    "print(report)\n",
    "\n"
   ]
  },
  {
   "cell_type": "raw",
   "metadata": {
    "vscode": {
     "languageId": "raw"
    }
   },
   "source": [
    "precision    recall  f1-score   support\n",
    "\n",
    "     Class 0       0.96      0.94      0.95       188\n",
    "     Class 1       0.97      0.95      0.96        39\n",
    "     Class 2       0.95      0.97      0.96       260\n",
    "\n",
    "    accuracy                           0.96       487\n",
    "   macro avg       0.96      0.95      0.96       487\n",
    "weighted avg       0.96      0.96      0.96       487"
   ]
  },
  {
   "cell_type": "markdown",
   "metadata": {},
   "source": [
    "precision    recall  f1-score   support\n",
    "\n",
    "     Class 0       0.93      0.93      0.93       180\n",
    "     Class 1       0.97      0.91      0.94        43\n",
    "     Class 2       0.96      0.97      0.96       264\n",
    "     Class 3       0.91      0.91      0.91        43\n",
    "\n",
    "    accuracy                           0.94       530\n",
    "   macro avg       0.94      0.93      0.93       530\n",
    "weighted avg       0.94      0.94      0.94       530"
   ]
  },
  {
   "cell_type": "markdown",
   "metadata": {},
   "source": [
    "              precision    recall  f1-score   support\n",
    "\n",
    "     Class 0       0.95      0.89      0.92       177\n",
    "     Class 1       0.97      0.93      0.95        42\n",
    "     Class 2       0.92      0.98      0.95       271\n",
    "     Class 3       0.89      0.84      0.86        38\n",
    "     Class 4       0.93      0.88      0.90        32\n",
    "\n",
    "    accuracy                           0.93       560\n",
    "   macro avg       0.93      0.90      0.92       560\n",
    "weighted avg       0.93      0.93      0.93       560"
   ]
  },
  {
   "cell_type": "markdown",
   "metadata": {},
   "source": [
    "precision    recall  f1-score   support\n",
    "\n",
    "     Class 0       0.90      0.87      0.88       203\n",
    "     Class 1       0.96      0.79      0.87        33\n",
    "     Class 2       0.87      0.97      0.92       249\n",
    "     Class 3       0.91      0.87      0.89        45\n",
    "     Class 4       1.00      0.58      0.74        24\n",
    "     Class 5       0.87      0.83      0.85        83\n",
    "\n",
    "    accuracy                           0.89       637\n",
    "   macro avg       0.92      0.82      0.86       637\n",
    "weighted avg       0.89      0.89      0.89       637"
   ]
  },
  {
   "cell_type": "markdown",
   "metadata": {},
   "source": [
    "precision    recall  f1-score   support\n",
    "\n",
    "     Class 0       0.92      0.88      0.90       208\n",
    "     Class 1       0.98      0.82      0.89        50\n",
    "     Class 2       0.90      0.95      0.93       244\n",
    "     Class 3       0.93      0.86      0.89        44\n",
    "     Class 4       0.89      0.55      0.68        29\n",
    "     Class 5       0.74      0.92      0.82        74\n",
    "     Class 6       0.94      0.89      0.92        55\n",
    "\n",
    "    accuracy                           0.89       704\n",
    "   macro avg       0.90      0.84      0.86       704\n",
    "weighted avg       0.90      0.89      0.89       704"
   ]
  },
  {
   "cell_type": "raw",
   "metadata": {
    "vscode": {
     "languageId": "raw"
    }
   },
   "source": [
    "precision    recall  f1-score   support\n",
    "\n",
    "     Class 0       0.85      0.90      0.87       195\n",
    "     Class 1       0.92      0.90      0.91        40\n",
    "     Class 2       0.95      0.89      0.92       259\n",
    "     Class 3       0.93      0.88      0.90        43\n",
    "     Class 4       0.83      0.57      0.68        35\n",
    "     Class 5       0.83      0.83      0.83        72\n",
    "     Class 6       0.85      0.85      0.85        62\n",
    "     Class 7       0.89      0.97      0.93       201\n",
    "\n",
    "    accuracy                           0.89       907\n",
    "   macro avg       0.88      0.85      0.86       907\n",
    "weighted avg       0.89      0.89      0.89       907"
   ]
  }
 ],
 "metadata": {
  "kernelspec": {
   "display_name": "venv",
   "language": "python",
   "name": "python3"
  },
  "language_info": {
   "codemirror_mode": {
    "name": "ipython",
    "version": 3
   },
   "file_extension": ".py",
   "mimetype": "text/x-python",
   "name": "python",
   "nbconvert_exporter": "python",
   "pygments_lexer": "ipython3",
   "version": "3.11.8"
  }
 },
 "nbformat": 4,
 "nbformat_minor": 2
}

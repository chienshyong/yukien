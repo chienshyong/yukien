{
 "cells": [
  {
   "cell_type": "code",
   "execution_count": 1,
   "metadata": {},
   "outputs": [
    {
     "name": "stderr",
     "output_type": "stream",
     "text": [
      "c:\\Users\\zq\\Documents\\GitHub\\yukien\\venv\\Lib\\site-packages\\PIL\\Image.py:1045: UserWarning: Palette images with Transparency expressed in bytes should be converted to RGBA images\n",
      "  warnings.warn(\n"
     ]
    },
    {
     "name": "stdout",
     "output_type": "stream",
     "text": [
      "Downloading data from https://storage.googleapis.com/tensorflow/keras-applications/vgg16/vgg16_weights_tf_dim_ordering_tf_kernels_notop.h5\n",
      "\u001b[1m58889256/58889256\u001b[0m \u001b[32m━━━━━━━━━━━━━━━━━━━━\u001b[0m\u001b[37m\u001b[0m \u001b[1m4s\u001b[0m 0us/step\n",
      "Epoch 1/10\n",
      "\u001b[1m67/67\u001b[0m \u001b[32m━━━━━━━━━━━━━━━━━━━━\u001b[0m\u001b[37m\u001b[0m \u001b[1m54s\u001b[0m 794ms/step - accuracy: 0.6353 - loss: 1.1273 - val_accuracy: 0.8585 - val_loss: 0.3730\n",
      "Epoch 2/10\n",
      "\u001b[1m67/67\u001b[0m \u001b[32m━━━━━━━━━━━━━━━━━━━━\u001b[0m\u001b[37m\u001b[0m \u001b[1m57s\u001b[0m 859ms/step - accuracy: 0.8530 - loss: 0.3932 - val_accuracy: 0.9057 - val_loss: 0.2959\n",
      "Epoch 3/10\n",
      "\u001b[1m67/67\u001b[0m \u001b[32m━━━━━━━━━━━━━━━━━━━━\u001b[0m\u001b[37m\u001b[0m \u001b[1m57s\u001b[0m 852ms/step - accuracy: 0.9029 - loss: 0.2675 - val_accuracy: 0.9226 - val_loss: 0.2565\n",
      "Epoch 4/10\n",
      "\u001b[1m67/67\u001b[0m \u001b[32m━━━━━━━━━━━━━━━━━━━━\u001b[0m\u001b[37m\u001b[0m \u001b[1m58s\u001b[0m 865ms/step - accuracy: 0.9349 - loss: 0.2070 - val_accuracy: 0.9245 - val_loss: 0.2610\n",
      "Epoch 5/10\n",
      "\u001b[1m67/67\u001b[0m \u001b[32m━━━━━━━━━━━━━━━━━━━━\u001b[0m\u001b[37m\u001b[0m \u001b[1m58s\u001b[0m 874ms/step - accuracy: 0.9543 - loss: 0.1538 - val_accuracy: 0.9415 - val_loss: 0.2268\n",
      "Epoch 6/10\n",
      "\u001b[1m67/67\u001b[0m \u001b[32m━━━━━━━━━━━━━━━━━━━━\u001b[0m\u001b[37m\u001b[0m \u001b[1m57s\u001b[0m 858ms/step - accuracy: 0.9515 - loss: 0.1392 - val_accuracy: 0.9264 - val_loss: 0.2453\n",
      "Epoch 7/10\n",
      "\u001b[1m67/67\u001b[0m \u001b[32m━━━━━━━━━━━━━━━━━━━━\u001b[0m\u001b[37m\u001b[0m \u001b[1m57s\u001b[0m 856ms/step - accuracy: 0.9575 - loss: 0.1143 - val_accuracy: 0.9302 - val_loss: 0.2366\n",
      "Epoch 8/10\n",
      "\u001b[1m67/67\u001b[0m \u001b[32m━━━━━━━━━━━━━━━━━━━━\u001b[0m\u001b[37m\u001b[0m \u001b[1m58s\u001b[0m 863ms/step - accuracy: 0.9701 - loss: 0.0874 - val_accuracy: 0.9434 - val_loss: 0.2401\n",
      "Epoch 9/10\n",
      "\u001b[1m67/67\u001b[0m \u001b[32m━━━━━━━━━━━━━━━━━━━━\u001b[0m\u001b[37m\u001b[0m \u001b[1m57s\u001b[0m 851ms/step - accuracy: 0.9786 - loss: 0.0716 - val_accuracy: 0.9434 - val_loss: 0.2367\n",
      "Epoch 10/10\n",
      "\u001b[1m67/67\u001b[0m \u001b[32m━━━━━━━━━━━━━━━━━━━━\u001b[0m\u001b[37m\u001b[0m \u001b[1m57s\u001b[0m 856ms/step - accuracy: 0.9805 - loss: 0.0678 - val_accuracy: 0.9396 - val_loss: 0.2674\n",
      "Restoring model weights from the end of the best epoch: 8.\n",
      "\u001b[1m17/17\u001b[0m \u001b[32m━━━━━━━━━━━━━━━━━━━━\u001b[0m\u001b[37m\u001b[0m \u001b[1m11s\u001b[0m 670ms/step - accuracy: 0.9479 - loss: 0.1908\n",
      "Test accuracy: 0.9433962106704712\n",
      "\u001b[1m17/17\u001b[0m \u001b[32m━━━━━━━━━━━━━━━━━━━━\u001b[0m\u001b[37m\u001b[0m \u001b[1m12s\u001b[0m 670ms/step\n"
     ]
    }
   ],
   "source": [
    "import tensorflow as tf\n",
    "from tensorflow.keras.applications import VGG16\n",
    "from tensorflow.keras.preprocessing import image\n",
    "from tensorflow.keras.models import Model\n",
    "from tensorflow.keras.layers import Dense, Flatten, Dropout, Input, Concatenate\n",
    "from sklearn.metrics import classification_report\n",
    "from tensorflow.keras.utils import to_categorical\n",
    "from sklearn.model_selection import train_test_split\n",
    "from sklearn.preprocessing import StandardScaler\n",
    "import numpy as np\n",
    "import pandas as pd\n",
    "from tensorflow.keras.callbacks import EarlyStopping\n",
    "import os\n",
    "\n",
    "# Load the dataset\n",
    "data = pd.read_csv(\"dataset.csv\")\n",
    "\n",
    "# Extract the image paths and additional features\n",
    "image_paths = data[\"image_path\"]\n",
    "labels = data[\"artist_label\"]\n",
    "additional_features = data.drop(columns=[\"image_path\", \"artist_label\"])\n",
    "\n",
    "num_artists = len(os.listdir('dataset/'))\n",
    "\n",
    "# Function to load and preprocess images\n",
    "def load_and_preprocess_images(image_paths, target_size=(128, 128)):\n",
    "    images = []\n",
    "    for img_path in image_paths:\n",
    "        img = image.load_img(img_path, target_size=target_size)\n",
    "        img_array = image.img_to_array(img)\n",
    "        images.append(img_array)\n",
    "    return np.array(images)\n",
    "\n",
    "# Load and preprocess images\n",
    "X_images = load_and_preprocess_images(image_paths)\n",
    "X_images = X_images / 255.0  # Normalize the images to [0, 1] range\n",
    "\n",
    "# Convert labels to numpy array and one-hot encode them\n",
    "y = np.array(labels)\n",
    "y = to_categorical(y, num_classes=num_artists)\n",
    "\n",
    "# Convert additional features to numpy array\n",
    "X_additional = additional_features.to_numpy()\n",
    "\n",
    "# Normalize the additional features using StandardScaler\n",
    "scaler = StandardScaler()\n",
    "X_additional = scaler.fit_transform(X_additional)\n",
    "\n",
    "# Split data into training and testing sets\n",
    "X_train_images, X_test_images, X_train_additional, X_test_additional, y_train, y_test = train_test_split(\n",
    "    X_images, X_additional, y, test_size=0.2, random_state=42\n",
    ")\n",
    "\n",
    "# Load the pre-trained VGG16 model without the top layers (classification part)\n",
    "base_model = VGG16(weights='imagenet', include_top=False, input_shape=(128, 128, 3))\n",
    "\n",
    "# Freeze the base model layers so that their weights are not updated during training\n",
    "base_model.trainable = False\n",
    "\n",
    "# Image input branch\n",
    "image_input = Input(shape=(128, 128, 3), name='image_input')\n",
    "x = base_model(image_input)\n",
    "x = Flatten()(x)\n",
    "\n",
    "# Additional features input branch\n",
    "additional_input = Input(shape=(X_additional.shape[1],), name='additional_input')\n",
    "y = Dense(64, activation='relu')(additional_input)\n",
    "\n",
    "# Concatenate image features with the processed additional features\n",
    "z = Concatenate()([x, y])\n",
    "\n",
    "# Fully connected layers for classification\n",
    "z = Dense(128, activation='relu')(z)\n",
    "z = Dropout(0.5)(z)\n",
    "output = Dense(num_artists, activation='softmax')(z)  # num_artists classes, softmax activation\n",
    "\n",
    "# Define the complete model\n",
    "model = Model(inputs=[image_input, additional_input], outputs=output)\n",
    "\n",
    "# Compile the model\n",
    "model.compile(optimizer='adam',\n",
    "              loss='categorical_crossentropy',  # Categorical cross-entropy for multi-class classification\n",
    "              metrics=['accuracy'])\n",
    "\n",
    "# Set up EarlyStopping\n",
    "early_stopping = EarlyStopping(monitor='val_accuracy',  # Monitor validation accuracy\n",
    "                               patience=3,  # Stop after 3 epochs without improvement\n",
    "                               restore_best_weights=True,  # Restore the best weights when stopping\n",
    "                               verbose=1)\n",
    "\n",
    "# Train the model with EarlyStopping\n",
    "history = model.fit(\n",
    "    [X_train_images, X_train_additional],  # Pass both image and additional features for training\n",
    "    y_train,\n",
    "    epochs=10,\n",
    "    batch_size=32,\n",
    "    validation_data=([X_test_images, X_test_additional], y_test),  # Validation data\n",
    "    callbacks=[early_stopping]  # Include EarlyStopping in the callbacks\n",
    ")\n",
    "# Evaluate the model\n",
    "test_loss, test_acc = model.evaluate([X_test_images, X_test_additional], y_test)\n",
    "print(f\"Test accuracy: {test_acc}\")\n",
    "\n",
    "# Predict on the test set\n",
    "y_pred = np.argmax(model.predict([X_test_images, X_test_additional]), axis=1)  # Convert softmax probabilities to class labels\n",
    "\n",
    "# Get the actual class labels (as integers)\n",
    "y_true = np.argmax(y_test, axis=1)\n"
   ]
  },
  {
   "cell_type": "code",
   "execution_count": 2,
   "metadata": {},
   "outputs": [
    {
     "name": "stdout",
     "output_type": "stream",
     "text": [
      "              precision    recall  f1-score   support\n",
      "\n",
      "     Class 0       0.93      0.93      0.93       180\n",
      "     Class 1       0.97      0.91      0.94        43\n",
      "     Class 2       0.96      0.97      0.96       264\n",
      "     Class 3       0.91      0.91      0.91        43\n",
      "\n",
      "    accuracy                           0.94       530\n",
      "   macro avg       0.94      0.93      0.93       530\n",
      "weighted avg       0.94      0.94      0.94       530\n",
      "\n"
     ]
    }
   ],
   "source": [
    "\n",
    "# Classification report for performance evaluation\n",
    "report = classification_report(y_true, y_pred, \n",
    "                              target_names=[f'Class {i}' for i in np.unique(y_true)])\n",
    "print(report)\n",
    "\n"
   ]
  },
  {
   "cell_type": "raw",
   "metadata": {
    "vscode": {
     "languageId": "raw"
    }
   },
   "source": [
    "precision    recall  f1-score   support\n",
    "\n",
    "     Class 0       0.96      0.94      0.95       188\n",
    "     Class 1       0.97      0.95      0.96        39\n",
    "     Class 2       0.95      0.97      0.96       260\n",
    "\n",
    "    accuracy                           0.96       487\n",
    "   macro avg       0.96      0.95      0.96       487\n",
    "weighted avg       0.96      0.96      0.96       487"
   ]
  },
  {
   "cell_type": "markdown",
   "metadata": {},
   "source": [
    "precision    recall  f1-score   support\n",
    "\n",
    "     Class 0       0.93      0.93      0.93       180\n",
    "     Class 1       0.97      0.91      0.94        43\n",
    "     Class 2       0.96      0.97      0.96       264\n",
    "     Class 3       0.91      0.91      0.91        43\n",
    "\n",
    "    accuracy                           0.94       530\n",
    "   macro avg       0.94      0.93      0.93       530\n",
    "weighted avg       0.94      0.94      0.94       530"
   ]
  }
 ],
 "metadata": {
  "kernelspec": {
   "display_name": "venv",
   "language": "python",
   "name": "python3"
  },
  "language_info": {
   "codemirror_mode": {
    "name": "ipython",
    "version": 3
   },
   "file_extension": ".py",
   "mimetype": "text/x-python",
   "name": "python",
   "nbconvert_exporter": "python",
   "pygments_lexer": "ipython3",
   "version": "3.11.8"
  }
 },
 "nbformat": 4,
 "nbformat_minor": 2
}

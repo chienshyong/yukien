{
 "cells": [
  {
   "cell_type": "code",
   "execution_count": null,
   "metadata": {},
   "outputs": [],
   "source": [
    "#Scraping using https://github.com/mikf/gallery-dl\n",
    "\n",
    "!python -m pip install -U gallery-dl"
   ]
  },
  {
   "cell_type": "code",
   "execution_count": null,
   "metadata": {},
   "outputs": [],
   "source": [
    "!gallery-dl \"https://danbooru.donmai.us/posts?tags=torino_aqua+rating:general\""
   ]
  },
  {
   "cell_type": "code",
   "execution_count": null,
   "metadata": {},
   "outputs": [],
   "source": [
    "!gallery-dl \"https://danbooru.donmai.us/posts?tags=yukie_(kusaka_shi)+rating:general\""
   ]
  },
  {
   "cell_type": "code",
   "execution_count": null,
   "metadata": {},
   "outputs": [],
   "source": [
    "!gallery-dl \"https://danbooru.donmai.us/posts?tags=mery_(yangmalgage)+rating:general\""
   ]
  },
  {
   "cell_type": "code",
   "execution_count": null,
   "metadata": {},
   "outputs": [],
   "source": [
    "# Shrink all images to 200 px wide\n",
    "\n",
    "import os\n",
    "from PIL import Image\n",
    "\n",
    "def resize_images_in_folder(folder_path, target_width=200):\n",
    "    # Create output folder\n",
    "    output_folder = os.path.join(folder_path, 'resized')\n",
    "    os.makedirs(output_folder, exist_ok=True)\n",
    "\n",
    "    # Loop through all files in the folder\n",
    "    for filename in os.listdir(folder_path):\n",
    "        filepath = os.path.join(folder_path, filename)\n",
    "        if os.path.isfile(filepath) and filename.lower().endswith(('.png', '.jpg', '.jpeg', '.bmp', '.gif')):\n",
    "            try:\n",
    "                with Image.open(filepath) as img:\n",
    "                    # Calculate new height to maintain aspect ratio\n",
    "                    width_percent = target_width / float(img.size[0])\n",
    "                    new_height = int((float(img.size[1]) * float(width_percent)))\n",
    "                    \n",
    "                    # Resize image\n",
    "                    resized_img = img.resize((target_width, new_height), Image.ANTIALIAS)\n",
    "                    \n",
    "                    # Save resized image\n",
    "                    resized_img.save(os.path.join(output_folder, filename))\n",
    "                    print(f\"Resized: {filename}\")\n",
    "            except Exception as e:\n",
    "                print(f\"Failed to process {filename}: {e}\")\n",
    "\n",
    "# Example usage\n",
    "folder_path = rf'gallery-dl\\danbooru\\yukie_(kusaka_shi) rating_general'  # Replace with the path to your folder\n",
    "resize_images_in_folder(folder_path)\n"
   ]
  },
  {
   "cell_type": "code",
   "execution_count": null,
   "metadata": {},
   "outputs": [],
   "source": []
  }
 ],
 "metadata": {
  "kernelspec": {
   "display_name": "Python 3",
   "language": "python",
   "name": "python3"
  },
  "language_info": {
   "codemirror_mode": {
    "name": "ipython",
    "version": 3
   },
   "file_extension": ".py",
   "mimetype": "text/x-python",
   "name": "python",
   "nbconvert_exporter": "python",
   "pygments_lexer": "ipython3",
   "version": "3.11.9"
  }
 },
 "nbformat": 4,
 "nbformat_minor": 2
}
